{
 "cells": [
  {
   "cell_type": "code",
   "execution_count": null,
   "metadata": {},
   "outputs": [],
   "source": [
    "import scipy.io\n",
    "import numpy as np\n",
    "import os\n",
    "join = os.path.join\n",
    "\n",
    "from PIL.Image import Image\n",
    "\n",
    "\n",
    "import rectify\n",
    "import cv06, cv07\n",
    "import tools"
   ]
  },
  {
   "cell_type": "code",
   "execution_count": null,
   "metadata": {},
   "outputs": [
    {
     "ename": "IndexError",
     "evalue": "Replacement index 2 out of range for positional args tuple",
     "output_type": "error",
     "traceback": [
      "\u001b[0;31m---------------------------------------------------------------------------\u001b[0m",
      "\u001b[0;31mIndexError\u001b[0m                                Traceback (most recent call last)",
      "Cell \u001b[0;32mIn [4], line 6\u001b[0m\n\u001b[1;32m      4\u001b[0m \u001b[39mfor\u001b[39;00m i \u001b[39min\u001b[39;00m \u001b[39mrange\u001b[39m(\u001b[39m1\u001b[39m, \u001b[39m13\u001b[39m):\n\u001b[1;32m      5\u001b[0m     \u001b[39mfor\u001b[39;00m k \u001b[39min\u001b[39;00m \u001b[39mrange\u001b[39m(i, \u001b[39m13\u001b[39m):\n\u001b[0;32m----> 6\u001b[0m         imga \u001b[39m=\u001b[39m \u001b[39m'\u001b[39;49m\u001b[39m{02}\u001b[39;49;00m\u001b[39m'\u001b[39;49m\u001b[39m.\u001b[39;49mformat(i)\n\u001b[1;32m      7\u001b[0m         \u001b[39mprint\u001b[39m(imga)\n\u001b[1;32m      8\u001b[0m         im_a \u001b[39m=\u001b[39m Image\u001b[39m.\u001b[39mload(imga)\n",
      "\u001b[0;31mIndexError\u001b[0m: Replacement index 2 out of range for positional args tuple"
     ]
    }
   ],
   "source": [
    "root_dir = '/home/hartvi/zs22/TDV/scene_1/'\n",
    "img_dir = root_dir + 'images/'\n",
    "Xs = np.load('allX.npy')\n",
    "Ps = np.load(\"Ps.npy\")\n",
    "K = cv06.K\n",
    "invK = cv06.invK\n",
    "\n",
    "\n",
    "def squarifyP(P):\n",
    "    return np.hstack([P, [0,0,0,1]])\n",
    "\n",
    "def rel_P(P1, P2):\n",
    "    return (squarifyP(Ps[k]) @ np.linalg.inv(squarifyP(Ps[i])))[:3, :]\n",
    "\n",
    "\n",
    "task = [] # task variable for all data\n",
    "\n",
    "for i in range(1, 13):\n",
    "    for k in range(i, 13):\n",
    "        imga = '{0:02}'.format(i)\n",
    "        im_a = Image.load(join(img_dir, imga + '.jpg'))\n",
    "        imgb = '{0:02}'.format(k)\n",
    "        im_b = Image.load(join(img_dir, imgb + '.jpg'))\n",
    "        Rt_ab = rel_P(Ps[i], Ps[k])\n",
    "        F_ab = tools.calc_F(invK=invK, R=Rt_ab[:3, :3], t=Rt_ab[:, -1])\n",
    "\n",
    "        u_a = tools.e2p(np.loadtxt(join(root_dir, \"corresp\", \"u_{:02d}.txt\".format(i))).T)\n",
    "        u_b = tools.e2p(np.loadtxt(join(root_dir, \"corresp\", \"u_{:02d}.txt\".format(k))).T)\n",
    "        corresp = np.loadtxt(\n",
    "            join(root_dir, \"corresp\", \"m_{:02d}_{:02d}.txt\".format(i, k)), \n",
    "            dtype=int\n",
    "        ).T\n",
    "        u_a_p = u_a[:, corresp[0]]\n",
    "        u_b_p = u_b[:, corresp[1]]\n",
    "        inlier_indices = cv07.eval_inliers(u_a_p, u_b_p, F_ab, 1.1)\n",
    "        u_a_i = u_a_p[:, inlier_indices]\n",
    "        u_b_i = u_b_p[:, inlier_indices]\n",
    "        \n",
    "        [H_a, H_b, im_a_r, im_b_r] = rectify.rectify( F_ab, im_a, im_b )\n",
    "        u_a_r = H_a @ u_a_i\n",
    "        u_b_r = H_b @ u_b_i\n",
    "        task_i = np.array( [ im_a_r, im_b_r, seeds ], dtype=object )\n",
    "        task += [ task_i ]\n",
    "        seeds = np.vstack( ( u_a_r[0,:], u_b_r[0], ( u_a_r[1] + u_b_r[1] ) / 2 ) ).T"
   ]
  },
  {
   "cell_type": "code",
   "execution_count": null,
   "metadata": {},
   "outputs": [],
   "source": []
  }
 ],
 "metadata": {
  "kernelspec": {
   "display_name": "Python 3",
   "language": "python",
   "name": "python3"
  },
  "language_info": {
   "codemirror_mode": {
    "name": "ipython",
    "version": 3
   },
   "file_extension": ".py",
   "mimetype": "text/x-python",
   "name": "python",
   "nbconvert_exporter": "python",
   "pygments_lexer": "ipython3",
   "version": "3.8.10 (default, Nov 14 2022, 12:59:47) \n[GCC 9.4.0]"
  },
  "orig_nbformat": 4,
  "vscode": {
   "interpreter": {
    "hash": "916dbcbb3f70747c44a77c7bcd40155683ae19c65e1c03b4aa3499c5328201f1"
   }
  }
 },
 "nbformat": 4,
 "nbformat_minor": 2
}
